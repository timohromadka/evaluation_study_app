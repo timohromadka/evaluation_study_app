{
 "cells": [
  {
   "cell_type": "code",
   "execution_count": 2,
   "metadata": {},
   "outputs": [
    {
     "name": "stdout",
     "output_type": "stream",
     "text": [
      "Removed image_56.png from image directory\n",
      "Removed image_251.png from image directory\n",
      "Removed image_58.png from image directory\n",
      "Removed image_199.png from image directory\n",
      "Removed image_64.png from image directory\n",
      "Removed image_110.png from image directory\n",
      "Removed image_35.png from image directory\n",
      "Removed image_181.png from image directory\n",
      "Removed image_247.png from image directory\n",
      "Removed image_91.png from image directory\n",
      "Removed image_62.png from image directory\n",
      "Removed image_172.png from image directory\n",
      "Removed image_19.png from image directory\n",
      "Removed image_17.png from image directory\n",
      "Removed image_88.png from image directory\n",
      "Removed image_25.png from image directory\n",
      "Removed image_241.png from image directory\n",
      "Removed image_151.png from image directory\n",
      "Removed image_158.png from image directory\n",
      "Removed image_164.png from image directory\n",
      "Removed image_245.png from image directory\n",
      "Removed image_152.png from image directory\n",
      "Removed image_93.png from image directory\n",
      "Removed image_205.png from image directory\n",
      "Removed image_70.png from image directory\n",
      "Removed image_171.png from image directory\n",
      "Removed image_54.png from image directory\n",
      "Removed image_143.png from image directory\n",
      "Removed image_76.png from image directory\n",
      "Removed image_36.png from image directory\n",
      "Removed image_95.png from image directory\n",
      "Removed image_244.png from image directory\n",
      "Removed image_182.png from image directory\n",
      "Removed image_92.png from image directory\n",
      "Removed image_130.png from image directory\n",
      "Removed image_4.png from image directory\n",
      "Removed image_60.png from image directory\n",
      "Removed image_67.png from image directory\n"
     ]
    }
   ],
   "source": [
    "import os\n",
    "\n",
    "# Define paths to the audio and image directories\n",
    "audio_dir = \"models/drum_samples/ds_256_256/model_step_40000/samples/audio/pregen_sch_ddpm_nisteps_1000\"\n",
    "image_dir = \"models/drum_samples/ds_256_256/model_step_40000/samples/images/pregen_sch_ddpm_nisteps_1000\"\n",
    "\n",
    "# Get list of audio and image files\n",
    "audio_files = [f for f in os.listdir(audio_dir) if f.endswith('.wav')]\n",
    "image_files = [f for f in os.listdir(image_dir) if f.endswith('.png')]\n",
    "\n",
    "# Extract the indexes from the filenames (assuming format like 'audio_x.wav' and 'image_x.png')\n",
    "audio_indexes = set(f.split('_')[1].split('.')[0] for f in audio_files)\n",
    "image_indexes = set(f.split('_')[1].split('.')[0] for f in image_files)\n",
    "\n",
    "# Find the common indexes (files that have both audio and image)\n",
    "common_indexes = audio_indexes.intersection(image_indexes)\n",
    "\n",
    "# Remove audio files without a matching image\n",
    "for audio_file in audio_files:\n",
    "    audio_index = audio_file.split('_')[1].split('.')[0]\n",
    "    if audio_index not in common_indexes:\n",
    "        os.remove(os.path.join(audio_dir, audio_file))\n",
    "        print(f\"Removed {audio_file} from audio directory\")\n",
    "\n",
    "# Remove image files without a matching audio\n",
    "for image_file in image_files:\n",
    "    image_index = image_file.split('_')[1].split('.')[0]\n",
    "    if image_index not in common_indexes:\n",
    "        os.remove(os.path.join(image_dir, image_file))\n",
    "        print(f\"Removed {image_file} from image directory\")\n"
   ]
  },
  {
   "cell_type": "code",
   "execution_count": null,
   "metadata": {},
   "outputs": [],
   "source": []
  }
 ],
 "metadata": {
  "kernelspec": {
   "display_name": "evaluation_app_venv",
   "language": "python",
   "name": "python3"
  },
  "language_info": {
   "codemirror_mode": {
    "name": "ipython",
    "version": 3
   },
   "file_extension": ".py",
   "mimetype": "text/x-python",
   "name": "python",
   "nbconvert_exporter": "python",
   "pygments_lexer": "ipython3",
   "version": "3.12.3"
  }
 },
 "nbformat": 4,
 "nbformat_minor": 2
}
